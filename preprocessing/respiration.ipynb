{
 "cells": [
  {
   "cell_type": "markdown",
   "metadata": {},
   "source": [
    "# Respiration"
   ]
  },
  {
   "cell_type": "code",
   "execution_count": null,
   "metadata": {},
   "outputs": [],
   "source": [
    "def rr(start, end, patient_id, print1, print2):\n",
    "    if patient_id == 'simulator':\n",
    "        time = pickle.load(open('samples/simulated_time', 'rb'))\n",
    "        rr = pickle.load(open('samples/simulated_processed_rr', 'rb'))\n",
    "        return time[(int)(start*F):(int)(end*F)], rr[(int)(start*F):(int)(end*F)]\n",
    "    \n",
    "    debug = print1 or print2\n",
    "    if debug == False and os.path.exists('pickles/'+str(patient_id)+'-rr-processed') == True:\n",
    "        time = pickle.load(open('pickles/'+str(patient_id)+'-time-processed', 'rb'))\n",
    "        rr = pickle.load(open('pickles/'+str(patient_id)+'-rr-processed', 'rb'))\n",
    "        return time[(int)(start*F):(int)(end*F)], rr[(int)(start*F):(int)(end*F)]\n",
    "    \n",
    "    if debug == False:\n",
    "        start_ = 0\n",
    "        end_ = 2300\n",
    "    else:\n",
    "        start_ = start\n",
    "        if start != 0:\n",
    "            start_ = start - MARGIN\n",
    "        end_ = end + MARGIN\n",
    "    resp = []\n",
    "    filename = patient_id + \"-MDC_RESP-62.5.csv\"\n",
    "    if print1 or print2:\n",
    "        print(filename+':')\n",
    "        print(\"sampling frequency is \", F,\" Hz\")\n",
    "    with open('samples/'+filename, 'r') as f:\n",
    "        reader = csv.reader(f)\n",
    "        for row in reader:\n",
    "            resp.append(float(row[1]))\n",
    "\n",
    "    resp_small = np.array(resp[(int)(start_*62.5):(int)(end_*62.5)])            \n",
    "    peaks,_=find_peaks(resp_small, distance=31, height=1150, prominence=1)\n",
    "    peaks_sec = (peaks + start_*62.5) * 0.016\n",
    "    time = np.arange(start_, end_, 0.016)\n",
    "\n",
    "    if print1:\n",
    "        plt.figure(figsize=(FIG_WIDTH, FIG_HEIGHT))\n",
    "        plt.plot(time,resp_small)\n",
    "        plt.plot(peaks_sec, resp_small[peaks], \"x\")\n",
    "        plt.title('Respiration')\n",
    "        plt.xlabel('Time [sec]')\n",
    "        plt.show()\n",
    "\n",
    "    diffs = np.diff(peaks_sec)\n",
    "    peaks_sec = peaks_sec[:len(diffs)]+diffs/2\n",
    "    rr = 60/diffs\n",
    "\n",
    "    rr_interp_func = interp1d(peaks_sec, rr)\n",
    "    time = np.arange(start_ + MARGIN, end_ - MARGIN + 1/F, 1/F)\n",
    "\n",
    "    if print2:\n",
    "        plt.figure(figsize=(FIG_WIDTH, FIG_HEIGHT))\n",
    "        plt.plot(peaks_sec,rr)\n",
    "        plt.plot(time,rr_interp_func(time))\n",
    "        plt.title('Respiration Rate')\n",
    "        plt.xlabel('Time [sec]')\n",
    "        plt.ylabel('[Hz]')\n",
    "        plt.legend(['data', 'resampled'], loc='best')\n",
    "        plt.show()\n",
    "    \n",
    "    if debug == False:\n",
    "        with open('pickles/'+str(patient_id)+'-rr-processed', 'wb') as rr_file:\n",
    "            pickle.dump(rr_interp_func(time), rr_file)\n",
    "        return time[(int)(start*F):(int)(end*F)], rr[(int)(start*F):(int)(end*F)]\n"
   ]
  }
 ],
 "metadata": {
  "kernelspec": {
   "display_name": "Python 3",
   "language": "python",
   "name": "python3"
  },
  "language_info": {
   "codemirror_mode": {
    "name": "ipython",
    "version": 3
   },
   "file_extension": ".py",
   "mimetype": "text/x-python",
   "name": "python",
   "nbconvert_exporter": "python",
   "pygments_lexer": "ipython3",
   "version": "3.7.4"
  }
 },
 "nbformat": 4,
 "nbformat_minor": 4
}
