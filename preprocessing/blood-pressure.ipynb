{
 "cells": [
  {
   "cell_type": "markdown",
   "metadata": {},
   "source": [
    "# Blood Pressure"
   ]
  },
  {
   "cell_type": "code",
   "execution_count": 3,
   "metadata": {},
   "outputs": [],
   "source": [
    "def bp(start, end, print1, print2):\n",
    "    if start != 0:\n",
    "        start = start - MARGIN\n",
    "    end = end + MARGIN\n",
    "    bp = []\n",
    "    filename = PATIENT_ID + \"-MDC_PRESS_BLD_ART_ABP-125.csv\"\n",
    "    if print1 or print2:\n",
    "        print(filename+':')\n",
    "        print(\"sampling frequency is \", F,\" Hz\")\n",
    "    with open('samples/'+ filename, 'r') as f:\n",
    "        reader = csv.reader(f)\n",
    "        for row in reader:\n",
    "            bp.append((0.0625*float(row[1]))-40)\n",
    "\n",
    "    bp_small = np.array(bp[start*125:end*125])\n",
    "    peaks,_= find_peaks(bp_small, prominence=1, distance=42)\n",
    "    peaks_sec = (peaks + start*125) * 0.008\n",
    "    sys = bp_small[peaks]\n",
    "    time = np.arange(start, end, 0.008)\n",
    "\n",
    "    if print1:\n",
    "        plt.figure(figsize=(FIG_WIDTH, FIG_HEIGHT))\n",
    "        plt.plot(time,bp_small)\n",
    "        plt.plot(peaks_sec, sys, \"x\")\n",
    "        plt.title('Blood Pressure')\n",
    "        plt.xlabel('Time [sec]')\n",
    "        plt.show()\n",
    "    bp = []\n",
    "\n",
    "    sys_interp_func = interp1d(peaks_sec, sys)\n",
    "    time = np.arange(start + MARGIN, end - MARGIN + 1/F, 1/F)\n",
    "\n",
    "    if print2:\n",
    "        plt.figure(figsize=(FIG_WIDTH, FIG_HEIGHT))\n",
    "        plt.plot(peaks_sec,sys) \n",
    "        plt.plot(time,sys_interp_func(time))\n",
    "        plt.title('Systolic Blood Pressure')\n",
    "        plt.xlabel('Time [sec]')\n",
    "        plt.legend(['data', 'resampled'], loc='best')\n",
    "        plt.show()\n",
    "\n",
    "    return time, sys_interp_func(time)\n"
   ]
  },
  {
   "cell_type": "code",
   "execution_count": null,
   "metadata": {},
   "outputs": [],
   "source": []
  }
 ],
 "metadata": {
  "kernelspec": {
   "display_name": "Python 3",
   "language": "python",
   "name": "python3"
  },
  "language_info": {
   "codemirror_mode": {
    "name": "ipython",
    "version": 3
   },
   "file_extension": ".py",
   "mimetype": "text/x-python",
   "name": "python",
   "nbconvert_exporter": "python",
   "pygments_lexer": "ipython3",
   "version": "3.7.4"
  }
 },
 "nbformat": 4,
 "nbformat_minor": 4
}
