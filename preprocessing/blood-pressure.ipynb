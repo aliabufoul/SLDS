{
 "cells": [
  {
   "cell_type": "markdown",
   "metadata": {},
   "source": [
    "# Blood Pressure"
   ]
  },
  {
   "cell_type": "code",
   "execution_count": null,
   "metadata": {},
   "outputs": [],
   "source": [
    "def bp(start, end, patient_id, print1, print2):\n",
    "    if patient_id == 'simulator':\n",
    "        time = pickle.load(open('samples/simulated_time', 'rb'))\n",
    "        bp = pickle.load(open('samples/simulated_processed_bp', 'rb'))\n",
    "        return time[(int)(start*F):(int)(end*F)], bp[(int)(start*F):(int)(end*F)]\n",
    "    \n",
    "    debug = print1 or print2\n",
    "    if debug == False and os.path.exists('pickles/'+str(patient_id)+'-bp-processed') == True:\n",
    "        time = pickle.load(open('pickles/'+str(patient_id)+'-time-processed', 'rb'))\n",
    "        bp = pickle.load(open('pickles/'+str(patient_id)+'-bp-processed', 'rb'))\n",
    "        return time[(int)(start*F):(int)(end*F)], bp[(int)(start*F):(int)(end*F)]\n",
    "    \n",
    "    if debug == False:\n",
    "        start_ = 0\n",
    "        end_ = 2300\n",
    "    else:\n",
    "        start_ = start\n",
    "        if start != 0:\n",
    "            start_ = start - MARGIN\n",
    "        end_ = end + MARGIN\n",
    "    bp = []\n",
    "    filename = patient_id + \"-MDC_PRESS_BLD_ART_ABP-125.csv\"\n",
    "    if print1 or print2:\n",
    "        print(filename+':')\n",
    "        print(\"sampling frequency is \", F,\" Hz\")\n",
    "    with open('samples/'+ filename, 'r') as f:\n",
    "        reader = csv.reader(f)\n",
    "        for row in reader:\n",
    "            bp.append((0.0625*float(row[1]))-40)\n",
    "\n",
    "    bp_small = np.array(bp[start_*125:end_*125])\n",
    "    peaks,_= find_peaks(bp_small, prominence=1, distance=42)\n",
    "    peaks_sec = (peaks + start_*125) * 0.008\n",
    "    sys = bp_small[peaks]\n",
    "    time = np.arange(start_, end_, 0.008)\n",
    "\n",
    "    if print1:\n",
    "        plt.figure(figsize=(FIG_WIDTH, FIG_HEIGHT))\n",
    "        plt.plot(time,bp_small)\n",
    "        plt.plot(peaks_sec, sys, \"x\")\n",
    "        plt.title('Blood Pressure')\n",
    "        plt.xlabel('Time [sec]')\n",
    "        plt.show()\n",
    "\n",
    "    sys_interp_func = interp1d(peaks_sec, sys)\n",
    "    time = np.arange(start_ + MARGIN, end_ - MARGIN + 1/F, 1/F)\n",
    "\n",
    "    if print2:\n",
    "        plt.figure(figsize=(FIG_WIDTH, FIG_HEIGHT))\n",
    "        plt.plot(peaks_sec,sys) \n",
    "        plt.plot(time,sys_interp_func(time))\n",
    "        plt.title('Systolic Blood Pressure')\n",
    "        plt.xlabel('Time [sec]')\n",
    "        plt.legend(['data', 'resampled'], loc='best')\n",
    "        plt.show()\n",
    "    \n",
    "    if debug == False:\n",
    "        with open('pickles/'+str(patient_id)+'-time-processed', 'wb') as time_file:\n",
    "            pickle.dump(time, time_file)\n",
    "        with open('pickles/'+str(patient_id)+'-bp-processed', 'wb') as bp_file:\n",
    "            pickle.dump(sys_interp_func(time), bp_file)\n",
    "        return time[(int)(start*F):(int)(end*F)], bp[(int)(start*F):(int)(end*F)]\n"
   ]
  }
 ],
 "metadata": {
  "kernelspec": {
   "display_name": "Python 3",
   "language": "python",
   "name": "python3"
  },
  "language_info": {
   "codemirror_mode": {
    "name": "ipython",
    "version": 3
   },
   "file_extension": ".py",
   "mimetype": "text/x-python",
   "name": "python",
   "nbconvert_exporter": "python",
   "pygments_lexer": "ipython3",
   "version": "3.7.4"
  }
 },
 "nbformat": 4,
 "nbformat_minor": 4
}
