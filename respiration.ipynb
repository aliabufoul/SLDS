{
 "cells": [
  {
   "cell_type": "markdown",
   "metadata": {},
   "source": [
    "# Respiration"
   ]
  },
  {
   "cell_type": "code",
   "execution_count": 2,
   "metadata": {},
   "outputs": [],
   "source": [
    "def rr(start, end, print1, print2):\n",
    "    %run configuration.ipynb\n",
    "    if start != 0:\n",
    "        start = start - MARGIN\n",
    "    end = end + MARGIN\n",
    "    resp = []\n",
    "    filename = PATIENT_ID + \"-MDC_RESP-62.5.csv\"\n",
    "    if print1 or print2:\n",
    "        print(filename+':')\n",
    "        print(\"sampling frequency is \", F,\" Hz\")\n",
    "    with open('samples/'+filename, 'r') as f:\n",
    "        reader = csv.reader(f)\n",
    "        for row in reader:\n",
    "            resp.append(float(row[1]))\n",
    "\n",
    "    resp_small = np.array(resp[(int)(start*62.5):(int)(end*62.5)])            \n",
    "    peaks,_=find_peaks(resp_small, distance=31, height=1150, prominence=1)\n",
    "    peaks_sec = (peaks + start*62.5) * 0.016\n",
    "    time = np.arange(start, end, 0.016)\n",
    "\n",
    "    if print1:\n",
    "        plt.figure(figsize=(FIG_WIDTH, FIG_HEIGHT))\n",
    "        plt.plot(time,resp_small)\n",
    "        plt.plot(peaks_sec, resp_small[peaks], \"x\")\n",
    "        plt.title('Respiration')\n",
    "        plt.xlabel('Time [sec]')\n",
    "        plt.show()\n",
    "\n",
    "    diffs = np.diff(peaks_sec)\n",
    "    peaks_sec = peaks_sec[:len(diffs)]+diffs/2\n",
    "    rr = 60/diffs\n",
    "\n",
    "    resp = []\n",
    "\n",
    "    rr_interp_func = interp1d(peaks_sec, rr)\n",
    "    time = np.arange(start + MARGIN, end - MARGIN + 1/F, 1/F)\n",
    "\n",
    "    if print2:\n",
    "        plt.figure(figsize=(FIG_WIDTH, FIG_HEIGHT))\n",
    "        plt.plot(peaks_sec,rr)\n",
    "        plt.plot(time,rr_interp_func(time))\n",
    "        plt.title('Respiration Rate')\n",
    "        plt.xlabel('Time [sec]')\n",
    "        plt.ylabel('[Hz]')\n",
    "        plt.legend(['data', 'resampled'], loc='best')\n",
    "        plt.show()\n",
    "\n",
    "    return time, rr_interp_func(time)\n"
   ]
  },
  {
   "cell_type": "code",
   "execution_count": null,
   "metadata": {},
   "outputs": [],
   "source": []
  }
 ],
 "metadata": {
  "kernelspec": {
   "display_name": "Python 3",
   "language": "python",
   "name": "python3"
  },
  "language_info": {
   "codemirror_mode": {
    "name": "ipython",
    "version": 3
   },
   "file_extension": ".py",
   "mimetype": "text/x-python",
   "name": "python",
   "nbconvert_exporter": "python",
   "pygments_lexer": "ipython3",
   "version": "3.7.4"
  }
 },
 "nbformat": 4,
 "nbformat_minor": 4
}
