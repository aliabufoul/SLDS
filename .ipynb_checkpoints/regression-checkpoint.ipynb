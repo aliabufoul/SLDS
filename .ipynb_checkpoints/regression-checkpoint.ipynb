{
 "cells": [
  {
   "cell_type": "code",
   "execution_count": 27,
   "metadata": {},
   "outputs": [
    {
     "name": "stdout",
     "output_type": "stream",
     "text": [
      "A = \n",
      "[[1 2 3]\n",
      " [4 5 6]\n",
      " [7 8 9]]\n",
      "\n",
      "x = \n",
      "[[1]\n",
      " [2]\n",
      " [3]]\n",
      "\n",
      "y = \n",
      "[[14]\n",
      " [32]\n",
      " [50]]\n",
      "\n"
     ]
    }
   ],
   "source": [
    "import numpy as np\n",
    "\n",
    "A = np.matrix([[1, 2, 3],[4, 5, 6],[7, 8, 9]])\n",
    "x = np.matrix([1, 2, 3]).transpose()\n",
    "y = A * x\n",
    "\n",
    "print(\"A = \")\n",
    "print(A)\n",
    "#print(A.shape)\n",
    "print()\n",
    "\n",
    "print(\"x = \")\n",
    "print(x)\n",
    "#print(x.shape)\n",
    "print()\n",
    "\n",
    "print(\"y = \")\n",
    "print(y)\n",
    "#print(y.shape)\n",
    "print()\n"
   ]
  },
  {
   "cell_type": "code",
   "execution_count": null,
   "metadata": {},
   "outputs": [],
   "source": []
  },
  {
   "cell_type": "code",
   "execution_count": null,
   "metadata": {},
   "outputs": [],
   "source": []
  }
 ],
 "metadata": {
  "kernelspec": {
   "display_name": "Python 3",
   "language": "python",
   "name": "python3"
  },
  "language_info": {
   "codemirror_mode": {
    "name": "ipython",
    "version": 3
   },
   "file_extension": ".py",
   "mimetype": "text/x-python",
   "name": "python",
   "nbconvert_exporter": "python",
   "pygments_lexer": "ipython3",
   "version": "3.7.4"
  }
 },
 "nbformat": 4,
 "nbformat_minor": 2
}
