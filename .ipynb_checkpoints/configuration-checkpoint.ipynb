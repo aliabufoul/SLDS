{
 "cells": [
  {
   "cell_type": "code",
   "execution_count": 4,
   "metadata": {},
   "outputs": [],
   "source": [
    "import csv\n",
    "import matplotlib.pyplot as plt\n",
    "import numpy as np\n",
    "from scipy.misc import electrocardiogram\n",
    "from scipy.signal import find_peaks\n",
    "from scipy import signal\n",
    "import os\n",
    "from operator import itemgetter\n",
    "from scipy.interpolate import interp1d\n",
    "from numpy.linalg import matrix_power\n",
    "\n",
    "\n",
    "START_POINT=1700\n",
    "END_POINT=2000 # have to be even number\n",
    "F = 1\n",
    "\n",
    "FIG_WIDTH=18\n",
    "FIG_HEIGHT=2\n",
    "\n",
    "MARGIN=6\n",
    "\n"
   ]
  },
  {
   "cell_type": "code",
   "execution_count": null,
   "metadata": {},
   "outputs": [],
   "source": []
  },
  {
   "cell_type": "code",
   "execution_count": null,
   "metadata": {},
   "outputs": [],
   "source": []
  },
  {
   "cell_type": "code",
   "execution_count": null,
   "metadata": {},
   "outputs": [],
   "source": []
  }
 ],
 "metadata": {
  "kernelspec": {
   "display_name": "Python 3",
   "language": "python",
   "name": "python3"
  },
  "language_info": {
   "codemirror_mode": {
    "name": "ipython",
    "version": 3
   },
   "file_extension": ".py",
   "mimetype": "text/x-python",
   "name": "python",
   "nbconvert_exporter": "python",
   "pygments_lexer": "ipython3",
   "version": "3.7.4"
  }
 },
 "nbformat": 4,
 "nbformat_minor": 2
}
