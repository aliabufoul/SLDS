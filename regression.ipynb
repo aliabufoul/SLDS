{
 "cells": [
  {
   "cell_type": "code",
   "execution_count": 1,
   "metadata": {},
   "outputs": [
    {
     "name": "stdout",
     "output_type": "stream",
     "text": [
      "A = \n",
      "[[0 2 1]]\n",
      "\n",
      "x = \n",
      "[[ 1  2  6]\n",
      " [ 5 10  0]\n",
      " [ 0 10 10]]\n",
      "\n",
      "y = \n",
      "[[10]\n",
      " [20]\n",
      " [30]]\n",
      "\n",
      "[[1.77635684e-15]\n",
      " [2.00000000e+00]\n",
      " [1.00000000e+00]]\n"
     ]
    }
   ],
   "source": [
    "import numpy as np\n",
    "\n",
    "x = np.matrix([[1,2,6],[5,10,0],[0,10,10]])\n",
    "A = np.matrix([0,2,1])\n",
    "y = x * A.transpose()\n",
    "\n",
    "print(\"A = \")\n",
    "print(A)\n",
    "print()\n",
    "\n",
    "print(\"x = \")\n",
    "print(x)\n",
    "print()\n",
    "\n",
    "print(\"y = \")\n",
    "print(y)\n",
    "print()\n",
    "\n",
    "reg_A = np.linalg.inv(x.transpose()*x)*x.transpose()*y\n",
    "print(reg_A)\n"
   ]
  },
  {
   "cell_type": "code",
   "execution_count": null,
   "metadata": {},
   "outputs": [],
   "source": []
  },
  {
   "cell_type": "code",
   "execution_count": null,
   "metadata": {},
   "outputs": [],
   "source": []
  }
 ],
 "metadata": {
  "kernelspec": {
   "display_name": "Python 3",
   "language": "python",
   "name": "python3"
  },
  "language_info": {
   "codemirror_mode": {
    "name": "ipython",
    "version": 3
   },
   "file_extension": ".py",
   "mimetype": "text/x-python",
   "name": "python",
   "nbconvert_exporter": "python",
   "pygments_lexer": "ipython3",
   "version": "3.7.4"
  }
 },
 "nbformat": 4,
 "nbformat_minor": 2
}
