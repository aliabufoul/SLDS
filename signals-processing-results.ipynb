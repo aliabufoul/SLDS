{
 "cells": [
  {
   "cell_type": "code",
   "execution_count": null,
   "metadata": {
    "scrolled": false
   },
   "outputs": [],
   "source": [
    "%run blood-pressure.ipynb\n",
    "%run heart-rate.ipynb\n",
    "%run respiration.ipynb\n",
    "\n",
    "for i in range(39):\n",
    "    bp(i*60, (1+i)*60, 1, 1)\n",
    "for i in range(39):    \n",
    "    hr(i*60, (1+i)*60, 1, 1)\n",
    "for i in range(39):\n",
    "    rr(i*60, (1+i)*60, 1, 1) \n"
   ]
  },
  {
   "cell_type": "code",
   "execution_count": null,
   "metadata": {},
   "outputs": [],
   "source": []
  },
  {
   "cell_type": "code",
   "execution_count": null,
   "metadata": {},
   "outputs": [],
   "source": []
  }
 ],
 "metadata": {
  "kernelspec": {
   "display_name": "Python 3",
   "language": "python",
   "name": "python3"
  },
  "language_info": {
   "codemirror_mode": {
    "name": "ipython",
    "version": 3
   },
   "file_extension": ".py",
   "mimetype": "text/x-python",
   "name": "python",
   "nbconvert_exporter": "python",
   "pygments_lexer": "ipython3",
   "version": "3.7.4"
  }
 },
 "nbformat": 4,
 "nbformat_minor": 2
}
