{
 "cells": [
  {
   "cell_type": "code",
   "execution_count": null,
   "metadata": {},
   "outputs": [],
   "source": [
    "%run configuration.ipynb\n",
    "%run linear-regression.ipynb\n",
    "def all_models(start, end):\n",
    "    models = []\n",
    "    count = 1\n",
    "    for start_ in np.arange(start, end + 50, 50):\n",
    "        for end_ in np.arange(start_ + 100, end + 100, 100):\n",
    "            for reg_method in [1,3]:\n",
    "                print(count, end = \" \")\n",
    "                count = count + 1\n",
    "                models.append(find_T(start_, end_, reg_method))\n",
    "    return models"
   ]
  },
  {
   "cell_type": "code",
   "execution_count": null,
   "metadata": {},
   "outputs": [],
   "source": [
    "%run configuration.ipynb\n",
    "def perfect_model(start, end):\n",
    "    fit = False\n",
    "    for end_ in np.arange(start + 200, end + 100, 100):\n",
    "        print(\" \")\n",
    "        print(start, end_)\n",
    "        pre_fit = fit\n",
    "        fit = False\n",
    "        models = all_models(start, end_)\n",
    "        for model_ in models:\n",
    "            prediction = test_T(model_, start, end_)\n",
    "            wn = white_noise(prediction.data_test, prediction.data_pred)\n",
    "            print(wn, end = \" \")\n",
    "            if wn == True:\n",
    "                fit = True\n",
    "                prediction_res = prediction\n",
    "                end_res = end_\n",
    "                break\n",
    "        if (fit == False and pre_fit == True) or (fit == True and end_ == end):\n",
    "            return prediction_res, end_res\n",
    "        if fit == False:\n",
    "            return None, end_ - 100"
   ]
  },
  {
   "cell_type": "code",
   "execution_count": null,
   "metadata": {},
   "outputs": [],
   "source": [
    "# parameters\n",
    "\n",
    "# total period to analyse\n",
    "start_signal = 300\n",
    "end_signal = 2200\n",
    "\n",
    "# length of the period to build the models from\n",
    "anticipated_model_period = 500\n",
    "\n",
    "# resolution\n",
    "training_res = 100\n",
    "testing_res = 100"
   ]
  },
  {
   "cell_type": "code",
   "execution_count": null,
   "metadata": {},
   "outputs": [],
   "source": [
    "predictions = []\n",
    "\n",
    "prediction, tmp_end = perfect_model(start_signal, end_signal)\n",
    "if prediction is None:\n",
    "    print(\"no model is found\")\n",
    "else:\n",
    "    predictions.append(prediction)\n",
    "    print_prediction_results(prediction)\n",
    "\n",
    "while tmp_end != end_signal:\n",
    "    prediction, tmp_end = perfect_model(tmp_end, end_signal)\n",
    "    if prediction is None:\n",
    "        print(\"no model is found\")\n",
    "    else:\n",
    "        predictions.append(prediction)\n",
    "        print_prediction_results(prediction)"
   ]
  },
  {
   "cell_type": "code",
   "execution_count": null,
   "metadata": {},
   "outputs": [],
   "source": []
  }
 ],
 "metadata": {
  "kernelspec": {
   "display_name": "Python 3",
   "language": "python",
   "name": "python3"
  },
  "language_info": {
   "codemirror_mode": {
    "name": "ipython",
    "version": 3
   },
   "file_extension": ".py",
   "mimetype": "text/x-python",
   "name": "python",
   "nbconvert_exporter": "python",
   "pygments_lexer": "ipython3",
   "version": "3.7.4"
  }
 },
 "nbformat": 4,
 "nbformat_minor": 2
}
