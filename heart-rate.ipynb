{
 "cells": [
  {
   "cell_type": "markdown",
   "metadata": {},
   "source": [
    "# ECG"
   ]
  },
  {
   "cell_type": "code",
   "execution_count": 3,
   "metadata": {
    "scrolled": false
   },
   "outputs": [
    {
     "data": {
      "text/plain": [
       "'\\nfor i in range(14):\\n    hr(i*60, (1+i)*60, 1, 1)\\n'"
      ]
     },
     "execution_count": 3,
     "metadata": {},
     "output_type": "execute_result"
    }
   ],
   "source": [
    "def hr(start, end, print1, print3):\n",
    "    %run configuration.ipynb\n",
    "    ecg = []\n",
    "    for filename in os.listdir('samples'):\n",
    "        if \"MDC_ECG_ELEC_POTL_II-500\" in filename:\n",
    "            if print1 or print3:\n",
    "                print(filename+':')\n",
    "                print(\"sampling frequency is \", F,\" Hz\")\n",
    "            with open('samples/'+ filename, 'r') as f:\n",
    "                reader = csv.reader(f)\n",
    "                for row in reader:\n",
    "                    ecg.append(float(row[1]))\n",
    "\n",
    "                ecg_small = np.array(ecg[start*500:end*500])            \n",
    "                peaks,_=find_peaks(ecg_small, height=8270, distance=155) #60/(193*0.002)\n",
    "                peaks_sec = (peaks + start*500) * 0.002\n",
    "                time = np.arange(start, end, 0.002)\n",
    "\n",
    "                if print1:\n",
    "                    plt.figure(figsize=(FIG_WIDTH, FIG_HEIGHT))\n",
    "                    plt.plot(time,ecg_small)\n",
    "                    plt.plot(peaks_sec, ecg_small[peaks], \"x\")\n",
    "                    plt.title('ECG')\n",
    "                    plt.xlabel('Time [sec]')\n",
    "                    plt.show()\n",
    "                ecg = []\n",
    "\n",
    "                diffs = np.diff(peaks_sec)\n",
    "                peaks_sec = peaks_sec[:len(diffs)]+diffs/2\n",
    "                hr = 60/diffs\n",
    "\n",
    "                hr_interp_func = interp1d(peaks_sec, hr)\n",
    "                time = np.arange(start + MARGIN, end - MARGIN + 1/F, 1/F)\n",
    "\n",
    "                if print3:\n",
    "                    plt.figure(figsize=(FIG_WIDTH, FIG_HEIGHT))\n",
    "                    plt.plot(peaks_sec,hr)\n",
    "                    plt.plot(time,hr_interp_func(time))\n",
    "                    plt.title('Heart Rate')\n",
    "                    plt.xlabel('Time [sec]')\n",
    "                    plt.ylabel('[bpm]')\n",
    "                    plt.legend(['data', 'resampled'], loc='best')\n",
    "                    plt.show()\n",
    "                \n",
    "                return time, hr_interp_func(time)\n",
    "'''\n",
    "for i in range(14):\n",
    "    hr(i*60, (1+i)*60, 1, 1)\n",
    "'''\n"
   ]
  },
  {
   "cell_type": "code",
   "execution_count": null,
   "metadata": {},
   "outputs": [],
   "source": []
  }
 ],
 "metadata": {
  "kernelspec": {
   "display_name": "Python 3",
   "language": "python",
   "name": "python3"
  },
  "language_info": {
   "codemirror_mode": {
    "name": "ipython",
    "version": 3
   },
   "file_extension": ".py",
   "mimetype": "text/x-python",
   "name": "python",
   "nbconvert_exporter": "python",
   "pygments_lexer": "ipython3",
   "version": "3.7.4"
  }
 },
 "nbformat": 4,
 "nbformat_minor": 4
}
